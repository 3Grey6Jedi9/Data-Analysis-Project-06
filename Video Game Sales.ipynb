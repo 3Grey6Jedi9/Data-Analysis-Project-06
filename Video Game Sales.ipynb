{
 "cells": [
  {
   "cell_type": "code",
   "execution_count": 217,
   "metadata": {
    "collapsed": true,
    "pycharm": {
     "name": "#%%\n"
    }
   },
   "outputs": [],
   "source": [
    "import pandas as pd\n",
    "import seaborn as sns\n",
    "import matplotlib.pyplot as plt\n",
    "video_game = pd.read_csv(\"top100videogamesales.csv\")\n",
    "import numpy as np"
   ]
  },
  {
   "cell_type": "markdown",
   "source": [
    "QUESTION 01: Regional Sales by Publisher: Create a stacked column (or bar) chart to show the sales by region for each publisher in the data. Explain your chart with markdown and detail which publisher had the most sales."
   ],
   "metadata": {
    "collapsed": false,
    "pycharm": {
     "name": "#%% md\n"
    }
   }
  },
  {
   "cell_type": "code",
   "execution_count": 218,
   "outputs": [
    {
     "data": {
      "text/plain": "   Rank                   Name  Platform  Year     Genre Publisher  NA_Sales  \\\n0     1             Wii Sports  Nintendo  2006    Sports  Nintendo     41.49   \n1     2         Mario Kart Wii  Nintendo  2008    Racing  Nintendo     15.85   \n2     3      Wii Sports Resort  Nintendo  2009    Sports  Nintendo     15.75   \n3     4  New Super Mario Bros.  Nintendo  2006  Platform  Nintendo     11.38   \n4     5               Wii Play  Nintendo  2006      Misc  Nintendo     14.03   \n\n   EU_Sales  JP_Sales  Other_Sales  Global_Sales  \n0     29.02      3.77         8.46         82.74  \n1     12.88      3.79         3.31         35.82  \n2     11.01      3.28         2.96         33.00  \n3      9.23      6.50         2.90         30.01  \n4      9.20      2.93         2.85         29.02  ",
      "text/html": "<div>\n<style scoped>\n    .dataframe tbody tr th:only-of-type {\n        vertical-align: middle;\n    }\n\n    .dataframe tbody tr th {\n        vertical-align: top;\n    }\n\n    .dataframe thead th {\n        text-align: right;\n    }\n</style>\n<table border=\"1\" class=\"dataframe\">\n  <thead>\n    <tr style=\"text-align: right;\">\n      <th></th>\n      <th>Rank</th>\n      <th>Name</th>\n      <th>Platform</th>\n      <th>Year</th>\n      <th>Genre</th>\n      <th>Publisher</th>\n      <th>NA_Sales</th>\n      <th>EU_Sales</th>\n      <th>JP_Sales</th>\n      <th>Other_Sales</th>\n      <th>Global_Sales</th>\n    </tr>\n  </thead>\n  <tbody>\n    <tr>\n      <th>0</th>\n      <td>1</td>\n      <td>Wii Sports</td>\n      <td>Nintendo</td>\n      <td>2006</td>\n      <td>Sports</td>\n      <td>Nintendo</td>\n      <td>41.49</td>\n      <td>29.02</td>\n      <td>3.77</td>\n      <td>8.46</td>\n      <td>82.74</td>\n    </tr>\n    <tr>\n      <th>1</th>\n      <td>2</td>\n      <td>Mario Kart Wii</td>\n      <td>Nintendo</td>\n      <td>2008</td>\n      <td>Racing</td>\n      <td>Nintendo</td>\n      <td>15.85</td>\n      <td>12.88</td>\n      <td>3.79</td>\n      <td>3.31</td>\n      <td>35.82</td>\n    </tr>\n    <tr>\n      <th>2</th>\n      <td>3</td>\n      <td>Wii Sports Resort</td>\n      <td>Nintendo</td>\n      <td>2009</td>\n      <td>Sports</td>\n      <td>Nintendo</td>\n      <td>15.75</td>\n      <td>11.01</td>\n      <td>3.28</td>\n      <td>2.96</td>\n      <td>33.00</td>\n    </tr>\n    <tr>\n      <th>3</th>\n      <td>4</td>\n      <td>New Super Mario Bros.</td>\n      <td>Nintendo</td>\n      <td>2006</td>\n      <td>Platform</td>\n      <td>Nintendo</td>\n      <td>11.38</td>\n      <td>9.23</td>\n      <td>6.50</td>\n      <td>2.90</td>\n      <td>30.01</td>\n    </tr>\n    <tr>\n      <th>4</th>\n      <td>5</td>\n      <td>Wii Play</td>\n      <td>Nintendo</td>\n      <td>2006</td>\n      <td>Misc</td>\n      <td>Nintendo</td>\n      <td>14.03</td>\n      <td>9.20</td>\n      <td>2.93</td>\n      <td>2.85</td>\n      <td>29.02</td>\n    </tr>\n  </tbody>\n</table>\n</div>"
     },
     "execution_count": 218,
     "metadata": {},
     "output_type": "execute_result"
    }
   ],
   "source": [
    "video_game.head()"
   ],
   "metadata": {
    "collapsed": false,
    "pycharm": {
     "name": "#%%\n"
    }
   }
  },
  {
   "cell_type": "code",
   "execution_count": 246,
   "outputs": [
    {
     "data": {
      "text/plain": "<Figure size 200x200 with 1 Axes>",
      "image/png": "[encoded data removed]"
     },
     "metadata": {},
     "output_type": "display_data"
    }
   ],
   "source": [
    "Publishers = np.array(video_game['Publisher'].unique())\n",
    "Publishers\n",
    "\n",
    "Nintendo = video_game[video_game['Publisher']=='Nintendo']\n",
    "len(Nintendo['NA_Sales'])\n",
    "# I could create a dictionary using lists as values so I have all the information I need to put in the chart.\n",
    "NA_Sales = []\n",
    "EU_Sales = []\n",
    "JP_Sales = []\n",
    "Other_Sales = []\n",
    "for p in Publishers:\n",
    "    ps = video_game[video_game['Publisher'] == p]\n",
    "    NA_Sales.append(len(ps['NA_Sales']))\n",
    "    EU_Sales.append(len(ps['NA_Sales']))\n",
    "    JP_Sales.append(len(ps['NA_Sales']))\n",
    "    Other_Sales.append(len(ps['NA_Sales']))\n",
    "labels = []\n",
    "for p in Publishers:\n",
    "    labels.append(p)\n",
    "width = 0.3\n",
    "fig, ax = plt.subplots()\n",
    "\n",
    "ax.bar(labels, NA_Sales, width, label='J')\n",
    "ax.bar(labels, EU_Sales, width, label='K', bottom=NA_Sales)\n",
    "\n",
    "plt.show()"
   ],
   "metadata": {
    "collapsed": false,
    "pycharm": {
     "name": "#%%\n"
    }
   }
  },
  {
   "cell_type": "code",
   "execution_count": 230,
   "outputs": [
    {
     "data": {
      "text/plain": "array(['Nintendo', 'Microsoft Game Studios', 'Take-Two Interactive',\n       'Sony Computer Entertainment', 'Activision', 'Ubisoft',\n       'Bethesda Softworks', 'Electronic Arts', 'Sega', '505 Games'],\n      dtype=object)"
     },
     "execution_count": 230,
     "metadata": {},
     "output_type": "execute_result"
    }
   ],
   "source": [],
   "metadata": {
    "collapsed": false,
    "pycharm": {
     "name": "#%%\n"
    }
   }
  }
 ],
 "metadata": {
  "kernelspec": {
   "display_name": "Python 3",
   "language": "python",
   "name": "python3"
  },
  "language_info": {
   "codemirror_mode": {
    "name": "ipython",
    "version": 2
   },
   "file_extension": ".py",
   "mimetype": "text/x-python",
   "name": "python",
   "nbconvert_exporter": "python",
   "pygments_lexer": "ipython2",
   "version": "2.7.6"
  }
 },
 "nbformat": 4,
 "nbformat_minor": 0
}